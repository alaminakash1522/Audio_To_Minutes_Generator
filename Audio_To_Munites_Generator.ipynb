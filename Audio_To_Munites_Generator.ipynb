{
 "cells": [
  {
   "cell_type": "code",
   "execution_count": 1,
   "id": "2451cac6-d5cb-4238-ad8a-e9898f0134cc",
   "metadata": {},
   "outputs": [],
   "source": [
    "import os\n",
    "from openai import OpenAI\n",
    "from transformers import AutoModelForCausalLM, AutoTokenizer, BitsAndBytesConfig, TextStreamer\n",
    "import torch"
   ]
  },
  {
   "cell_type": "code",
   "execution_count": 2,
   "id": "af8037bd-5bdc-4e9e-b09e-c226f2666deb",
   "metadata": {},
   "outputs": [],
   "source": [
    "# print(os.getenv(\"OPENAI_API_KEY\"))"
   ]
  },
  {
   "cell_type": "code",
   "execution_count": 3,
   "id": "997fdf56-94b1-4621-9892-d69107bfbb00",
   "metadata": {},
   "outputs": [],
   "source": [
    "client = OpenAI(api_key=os.getenv(\"OPENAI_API_KEY\"))"
   ]
  },
  {
   "cell_type": "markdown",
   "id": "3376f21f",
   "metadata": {},
   "source": [
    "# Audio Extractor"
   ]
  },
  {
   "cell_type": "code",
   "execution_count": 4,
   "id": "97975191-b924-4fff-9ec7-50cbf15e47e5",
   "metadata": {},
   "outputs": [],
   "source": [
    "def audio_extractor(file_path):\n",
    "    with open(file_path, \"rb\") as audio_file:\n",
    "        transcript = client.audio.transcriptions.create(\n",
    "            model=\"whisper-1\",\n",
    "            file=audio_file\n",
    "        )\n",
    "    return transcript.text"
   ]
  },
  {
   "cell_type": "code",
   "execution_count": 5,
   "id": "138c2eee",
   "metadata": {},
   "outputs": [],
   "source": [
    "# print(audio_extractor(\"Artificia_lNeurons_for_Music_and_Sound_Design_ Simon_Hutchinson.mp3\"))"
   ]
  },
  {
   "cell_type": "code",
   "execution_count": 6,
   "id": "3bf38762",
   "metadata": {},
   "outputs": [],
   "source": [
    "# Quantization using BitsAndBytes \n",
    "quant_config = BitsAndBytesConfig(\n",
    "    load_in_4bit=True,\n",
    "    bnb_4bit_compute_dtype=torch.float16,\n",
    "    bnb_4bit_use_double_quant=True,\n",
    "    bnb_4bit_quant_type=\"nf4\"\n",
    ")"
   ]
  },
  {
   "cell_type": "code",
   "execution_count": 7,
   "id": "ffb70cea",
   "metadata": {},
   "outputs": [
    {
     "data": {
      "application/vnd.jupyter.widget-view+json": {
       "model_id": "af2eac56bb41438cb5a2fbb79b7ec178",
       "version_major": 2,
       "version_minor": 0
      },
      "text/plain": [
       "Loading checkpoint shards:   0%|          | 0/3 [00:00<?, ?it/s]"
      ]
     },
     "metadata": {},
     "output_type": "display_data"
    }
   ],
   "source": [
    "model_id = \"d:\\\\Models\\\\Mistral-7B-Instruct-v0.3\"\n",
    "tokenizer = AutoTokenizer.from_pretrained(model_id)\n",
    "tokenizer.pad_token = tokenizer.eos_token\n",
    "model = AutoModelForCausalLM.from_pretrained(\n",
    "    model_id,\n",
    "    quantization_config=quant_config,\n",
    "    device_map=\"auto\"\n",
    ")"
   ]
  },
  {
   "cell_type": "code",
   "execution_count": 8,
   "id": "9570bfdf",
   "metadata": {},
   "outputs": [
    {
     "name": "stderr",
     "output_type": "stream",
     "text": [
      "Setting `pad_token_id` to `eos_token_id`:2 for open-end generation.\n"
     ]
    },
    {
     "name": "stdout",
     "output_type": "stream",
     "text": [
      "Title: Exploration of Artificial Neurons in Sound Synthesis by Simon Hutchinson\n",
      "\n",
      "1. Introduction\n",
      "   - Simon Hutchinson, a composer, music technologist, and professor of music at the University of New Haven, discussed his work with artificial neurons and their implementation in sound synthesis.\n",
      "   - He expressed excitement about this work due to its connections to feedback, audio non-linearity, and machine learning.\n",
      "\n",
      "2. Focus on Artificial Neurons\n",
      "   - Artificial neurons are mathematical functions that mimic biological neurons, serving as the building blocks of artificial neural networks.\n",
      "   - They can be created through code or electronics and function as a mixer with a non-linear transformation.\n",
      "\n",
      "3. Non-Linearity in Artificial Neurons\n",
      "   - The non-linearity in artificial neurons makes the behavior of the network more complex, preventing simplification to a single neuron.\n",
      "   - Examples of non-linear activation functions include the hyperbolic tangent function and rectified linear unit.\n",
      "\n",
      "4. Importance of Non-Linearity\n",
      "   - Non-linearity in artificial neurons leads to different sonic possibilities.\n",
      "   - If every neuron in a network were linear, the network could be simplified, making non-linearity essential for complexity.\n",
      "\n",
      "5. Neuron Mixing\n",
      "   - There is no practical reason to use neuron mixing, but it can provide useful tools for composers.\n",
      "   - Repurposing technology for artistic expression is a humane activity, making machine learning less scary and more attainable.\n",
      "\n",
      "6. Impact on Composition\n",
      "   - Creating musical brains with artificial neurons has improved Hutchinson's understanding of more complicated machine learning.\n",
      "   - This work can help artists imagine and develop creative approaches to AI, focusing on the beauty of chaotic behavior rather than replacement of their work.\n",
      "\n",
      "7. Conclusion\n",
      "   - Hutchinson aims to inspire audiences and other artists to take ownership of the direction of emerging technology through engaging with the artistic subject of machine learning.\n"
     ]
    }
   ],
   "source": [
    "transcript = audio_extractor(\"Artificia_lNeurons_for_Music_and_Sound_Design_ Simon_Hutchinson.mp3\")\n",
    "messages = [\n",
    "    {\"role\": \"system\", \"content\": \"You are a helpful assistant that summarizes meeting text into concise minutes.\"},\n",
    "    {\"role\": \"user\", \"content\": f\"Please generate the minutes from the following transcript:\\n {transcript}\"}\n",
    "]\n",
    "\n",
    "# format the message for mistral ai\n",
    "def format_chat(messages):\n",
    "    return tokenizer.apply_chat_template(messages, tokenize=False, add_generation_prompt=True)\n",
    "\n",
    "input_text = format_chat(messages)\n",
    "inputs = tokenizer(input_text, return_tensors=\"pt\").to(model.device)\n",
    "\n",
    "# Generate, Decode and Print\n",
    "with torch.no_grad():\n",
    "    outputs = model.generate(**inputs, max_new_tokens=512, do_sample=False)\n",
    "\n",
    "# Removing Prompt manually from the output text\n",
    "input_len = inputs.input_ids.shape[1]  # Length of the prompt\n",
    "generated_text = tokenizer.decode(outputs[0][input_len:], skip_special_tokens=True)\n",
    "print(generated_text)"
   ]
  },
  {
   "cell_type": "code",
   "execution_count": null,
   "id": "c998559f",
   "metadata": {},
   "outputs": [],
   "source": []
  }
 ],
 "metadata": {
  "kernelspec": {
   "display_name": "llms",
   "language": "python",
   "name": "python3"
  },
  "language_info": {
   "codemirror_mode": {
    "name": "ipython",
    "version": 3
   },
   "file_extension": ".py",
   "mimetype": "text/x-python",
   "name": "python",
   "nbconvert_exporter": "python",
   "pygments_lexer": "ipython3",
   "version": "3.11.12"
  }
 },
 "nbformat": 4,
 "nbformat_minor": 5
}
